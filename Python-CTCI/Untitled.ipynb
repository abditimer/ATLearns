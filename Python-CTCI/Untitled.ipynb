{
 "cells": [
  {
   "cell_type": "markdown",
   "metadata": {},
   "source": [
    "# Arrays & Strings"
   ]
  },
  {
   "cell_type": "markdown",
   "metadata": {},
   "source": [
    "## Hash Tables\n",
    "What is a hash table?\n",
    "A hash table is a data structure that maps <b>keys to values</b> for highly efficient lookup.\n",
    "\n",
    "Simplest implementation\n",
    "Use an array of linked lists and a hash code function. \n",
    "\n",
    "To insert a key and value, do the following:\n",
    "1. Compute the keys hash code (usually an int/long). Two keys may have the same hash code (as there can be an infinite number of keys but finite number of ints to place those keys into).\n",
    "2. Map the hash code to an index in the array. e.g. hash(key) % array_length. But here, two different hash codes can map to the same index.\n",
    "3. At this index you have just worked out, there is a linked list of keys & values. Store the key & value in this index. We use linked lists due to collisions; two different keys can have the same hash code, or two different hash codes that map to the same index.\n",
    "\n",
    "To retrieve key value pair, by using the key, repeat:\n",
    "1. Compute hash code from key\n",
    "2. Compute index from hash code\n",
    "3. search through the linked list for the value with this key\n",
    "    \n",
    "If no of collisions is high, worst case runtime is O(n) - n:number of keys\n",
    "A good implementation that keeps collision to a minimum is O(1)\n",
    "\n",
    "<img src=\"img/img1.png\" width=\"500px\">\n",
    "\n",
    "You can instead implement a hash table with a balanced binary search tree. This gives O(log N) lookup time. Adv: Uses less space wince you dont allocate a large array. You can also iterate through the keys in order.\n"
   ]
  },
  {
   "cell_type": "markdown",
   "metadata": {},
   "source": [
    "# 1.1 Is Unique\n",
    "Implement an algorithm to determine if a string has all unique characters. What if you cant use additional data structures?"
   ]
  },
  {
   "cell_type": "markdown",
   "metadata": {},
   "source": [
    "-------------------\n",
    "Condsiderations:\n",
    "Are the strings: ASCII or Unicode\n",
    "    1. ASCII defines 128 characters, which map to the numbers 0–127\n",
    "    2. Unicode defines <221 characters which map to numbers 0–221 \n",
    "\n",
    "Solution ideas:\n",
    "    1. Array of booleans; flag at index shows if character is contained in string\n",
    "    2. Return False if string length exceeds the number of unique characters in the alphabet (ASCII/Unicode)\n",
    "\n",
    "We assume that it is ASCII"
   ]
  },
  {
   "cell_type": "code",
   "execution_count": 18,
   "metadata": {},
   "outputs": [
    {
     "name": "stdout",
     "output_type": "stream",
     "text": [
      "[]\n",
      "[102]\n",
      "[102, 115]\n"
     ]
    },
    {
     "data": {
      "text/plain": [
       "False"
      ]
     },
     "execution_count": 18,
     "metadata": {},
     "output_type": "execute_result"
    }
   ],
   "source": [
    "#1st attempt\n",
    "def isUnique(stringToCheck):\n",
    "    #Check the length of the string. Are there more characters than the alphabet?\n",
    "    if len(stringToCheck) > 128:\n",
    "        return False\n",
    "    #initialise an empty list to add to\n",
    "    recordOfCharacters = []\n",
    "    #Check each char\n",
    "    for element in stringToCheck:\n",
    "        #convert to ascii number\n",
    "        charToASCII = ord(element)\n",
    "        #do we already have that char?\n",
    "        if charToASCII not in recordOfCharacters:\n",
    "            # yes - so return false\n",
    "            print(recordOfCharacters)\n",
    "            recordOfCharacters.append(charToASCII)\n",
    "        else:\n",
    "            # no, so add it to our list\n",
    "            return False\n",
    "    print(recordOfCharacters)\n",
    "    return True\n",
    "\n",
    "isUnique('fsgsdgsdg')"
   ]
  },
  {
   "cell_type": "code",
   "execution_count": 21,
   "metadata": {},
   "outputs": [
    {
     "name": "stdout",
     "output_type": "stream",
     "text": [
      "True\n",
      "False\n"
     ]
    }
   ],
   "source": [
    "#solution\n",
    "def unique(string):\n",
    "    # assume character set is ASCII\n",
    "    if len(string) > 128:\n",
    "        return False\n",
    "    \n",
    "    char_set = [False for _ in range (128)]\n",
    "    for char in string:\n",
    "        val = ord(char)\n",
    "        if char_set[val]:\n",
    "            return False\n",
    "        char_set[val] = True\n",
    "    return True\n",
    "print(unique('sdf'))\n",
    "print(unique('aa'))"
   ]
  }
 ],
 "metadata": {
  "kernelspec": {
   "display_name": "Python 3",
   "language": "python",
   "name": "python3"
  },
  "language_info": {
   "codemirror_mode": {
    "name": "ipython",
    "version": 3
   },
   "file_extension": ".py",
   "mimetype": "text/x-python",
   "name": "python",
   "nbconvert_exporter": "python",
   "pygments_lexer": "ipython3",
   "version": "3.6.2"
  }
 },
 "nbformat": 4,
 "nbformat_minor": 4
}
